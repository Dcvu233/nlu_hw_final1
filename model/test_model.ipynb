{
 "cells": [
  {
   "cell_type": "code",
   "execution_count": 4,
   "metadata": {},
   "outputs": [
    {
     "name": "stdout",
     "output_type": "stream",
     "text": [
      "['/home/zry/code/NLU_HW_FINAL', '/home/zry/code/NLU_HW_FINAL/model', '/home/zry/dev/mambaforge/envs/NLU/lib/python38.zip', '/home/zry/dev/mambaforge/envs/NLU/lib/python3.8', '/home/zry/dev/mambaforge/envs/NLU/lib/python3.8/lib-dynload', '', '/home/zry/dev/mambaforge/envs/NLU/lib/python3.8/site-packages', '/home/zry/code/NLU_HW_FINAL']\n"
     ]
    },
    {
     "ename": "ModuleNotFoundError",
     "evalue": "No module named 'model.my_model'; 'model' is not a package",
     "output_type": "error",
     "traceback": [
      "\u001b[0;31m---------------------------------------------------------------------------\u001b[0m",
      "\u001b[0;31mModuleNotFoundError\u001b[0m                       Traceback (most recent call last)",
      "\u001b[1;32m/home/zry/code/NLU_HW_FINAL/model/test_model.ipynb Cell 1\u001b[0m in \u001b[0;36m<cell line: 6>\u001b[0;34m()\u001b[0m\n\u001b[1;32m      <a href='vscode-notebook-cell://ssh-remote%2Bsr/home/zry/code/NLU_HW_FINAL/model/test_model.ipynb#W0sdnNjb2RlLXJlbW90ZQ%3D%3D?line=3'>4</a>\u001b[0m     sys\u001b[39m.\u001b[39mpath\u001b[39m.\u001b[39minsert(\u001b[39m0\u001b[39m, \u001b[39m'\u001b[39m\u001b[39m/home/zry/code/NLU_HW_FINAL\u001b[39m\u001b[39m'\u001b[39m)\n\u001b[1;32m      <a href='vscode-notebook-cell://ssh-remote%2Bsr/home/zry/code/NLU_HW_FINAL/model/test_model.ipynb#W0sdnNjb2RlLXJlbW90ZQ%3D%3D?line=4'>5</a>\u001b[0m \u001b[39mfrom\u001b[39;00m \u001b[39mdata\u001b[39;00m\u001b[39m.\u001b[39;00m\u001b[39mdataset\u001b[39;00m \u001b[39mimport\u001b[39;00m NewsDataset\n\u001b[0;32m----> <a href='vscode-notebook-cell://ssh-remote%2Bsr/home/zry/code/NLU_HW_FINAL/model/test_model.ipynb#W0sdnNjb2RlLXJlbW90ZQ%3D%3D?line=5'>6</a>\u001b[0m \u001b[39mfrom\u001b[39;00m \u001b[39mmodel\u001b[39;00m\u001b[39m.\u001b[39;00m\u001b[39mmy_model\u001b[39;00m \u001b[39mimport\u001b[39;00m BertLSTM1\n\u001b[1;32m      <a href='vscode-notebook-cell://ssh-remote%2Bsr/home/zry/code/NLU_HW_FINAL/model/test_model.ipynb#W0sdnNjb2RlLXJlbW90ZQ%3D%3D?line=7'>8</a>\u001b[0m test_dataset \u001b[39m=\u001b[39m NewsDataset()\n\u001b[1;32m      <a href='vscode-notebook-cell://ssh-remote%2Bsr/home/zry/code/NLU_HW_FINAL/model/test_model.ipynb#W0sdnNjb2RlLXJlbW90ZQ%3D%3D?line=8'>9</a>\u001b[0m model \u001b[39m=\u001b[39m BertLSTM1()\n",
      "\u001b[0;31mModuleNotFoundError\u001b[0m: No module named 'model.my_model'; 'model' is not a package"
     ]
    }
   ],
   "source": [
    "import sys\n",
    "print(sys.path)\n",
    "if '/home/zry/code/NLU_HW_FINAL' not in sys.path:\n",
    "    sys.path.insert(0, '/home/zry/code/NLU_HW_FINAL')\n",
    "from data.dataset import NewsDataset\n",
    "from model.my_model import BertLSTM1\n",
    "\n",
    "test_dataset = NewsDataset()\n",
    "model = BertLSTM1()\n",
    "test_dataset[0]"
   ]
  },
  {
   "cell_type": "code",
   "execution_count": null,
   "metadata": {},
   "outputs": [],
   "source": [
    "\n",
    "y = model(test_dataset[0])\n",
    "print(type(y))\n",
    "for e in y:\n",
    "    print(e.shape)"
   ]
  }
 ],
 "metadata": {
  "kernelspec": {
   "display_name": "my_great_work",
   "language": "python",
   "name": "python3"
  },
  "language_info": {
   "codemirror_mode": {
    "name": "ipython",
    "version": 3
   },
   "file_extension": ".py",
   "mimetype": "text/x-python",
   "name": "python",
   "nbconvert_exporter": "python",
   "pygments_lexer": "ipython3",
   "version": "3.8.16"
  },
  "orig_nbformat": 4
 },
 "nbformat": 4,
 "nbformat_minor": 2
}
