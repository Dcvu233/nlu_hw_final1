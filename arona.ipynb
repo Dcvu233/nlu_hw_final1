{
 "cells": [
  {
   "cell_type": "code",
   "execution_count": null,
   "metadata": {},
   "outputs": [],
   "source": [
    "import torch\n",
    "from torch import nn\n",
    "\n",
    "batch_size = 8\n",
    "out = torch.ones((batch_size,4)) * 8\n",
    "softmax = nn.Softmax(dim=-1)\n",
    "out = softmax(out)\n",
    "print(out)\n",
    "# real = torch.zeros_like(out)\n",
    "# for i in range(batch_size):\n",
    "#     real[i][i%4] = 1\n",
    "# crit = nn.CrossEntropyLoss()\n",
    "# crit(out, real)\n",
    "# real = torch.tensor([[0, 0, 0, 1]])\n",
    "# nn.CrossEntropyLoss()"
   ]
  },
  {
   "cell_type": "code",
   "execution_count": null,
   "metadata": {},
   "outputs": [],
   "source": [
    "x, y = 1, 2\n",
    "x, y"
   ]
  },
  {
   "cell_type": "code",
   "execution_count": null,
   "metadata": {},
   "outputs": [],
   "source": [
    "import torch\n",
    "from model.my_model import BertLSTM1\n",
    "from data.dataset import NewsDataset\n",
    "\n",
    "test_dataset = NewsDataset()\n",
    "model = BertLSTM1()\n",
    "y = model(test_dataset[0][0].unsqueeze(0), test_dataset[0][1].unsqueeze(0), test_dataset[0][2].unsqueeze(0))\n",
    "res = torch.max(y, dim=2)"
   ]
  },
  {
   "cell_type": "code",
   "execution_count": null,
   "metadata": {},
   "outputs": [],
   "source": [
    "import torch\n",
    "\n",
    "x = torch.randn(2, 4, 5)\n",
    "y = torch.sum(x, dim=1)\n",
    "x, y"
   ]
  },
  {
   "cell_type": "code",
   "execution_count": null,
   "metadata": {},
   "outputs": [],
   "source": [
    "with torch.no_grad():\n",
    "    print(1)"
   ]
  },
  {
   "cell_type": "code",
   "execution_count": null,
   "metadata": {},
   "outputs": [],
   "source": [
    "from transformers import BertTokenizer\n",
    "tokenizer = BertTokenizer.from_pretrained(\"bert-base-chinese\")\n"
   ]
  },
  {
   "cell_type": "code",
   "execution_count": null,
   "metadata": {},
   "outputs": [],
   "source": [
    "with open('preprocess/preprocessed_data/small_test_keywords.txt', 'r') as f:\n",
    "        lines = f.readlines()\n",
    "        for line in lines:\n",
    "            embedding = tokenizer.encode_plus(line.strip(), padding='max_length', max_length=50, return_tensors='pt')\n",
    "            print(embedding)"
   ]
  },
  {
   "cell_type": "code",
   "execution_count": 10,
   "metadata": {},
   "outputs": [],
   "source": [
    "from torch.utils.data import DataLoader\n",
    "from train_mtgpu import Trainer"
   ]
  },
  {
   "cell_type": "code",
   "execution_count": 16,
   "metadata": {},
   "outputs": [],
   "source": [
    "def _get_sep_pos(target_ids):\n",
    "        sep_pos = torch.zeros((target_ids.shape[0]))\n",
    "        for i in range(target_ids.shape[0]):\n",
    "            for j in range(target_ids.shape[1]):\n",
    "                if target_ids[i][j] == 102:\n",
    "                    sep_pos[i] = j\n",
    "                    break\n",
    "        return sep_pos"
   ]
  },
  {
   "cell_type": "code",
   "execution_count": 19,
   "metadata": {},
   "outputs": [
    {
     "name": "stdout",
     "output_type": "stream",
     "text": [
      "tensor([ 101, 5739, 1744, 4767, 3779, 1062, 1385, 1355, 4385, 2342, 1798, 3779,\n",
      "        4506, 5500,  817, 7604, 1285,  124,  945, 8013,  102,    0,    0,    0,\n",
      "           0,    0,    0,    0,    0,    0,    0,    0,    0,    0,    0,    0,\n",
      "           0,    0,    0,    0,    0,    0,    0,    0,    0,    0,    0,    0,\n",
      "           0,    0])\n"
     ]
    },
    {
     "data": {
      "text/plain": [
       "(tensor([20., 10., 17., 20., 17., 27., 14., 23., 22., 31., 13., 17., 22., 15.,\n",
       "         21., 13., 20., 19., 21., 17., 20., 13., 23., 19., 18., 23., 25., 20.,\n",
       "         12., 28., 16., 13.]),\n",
       " torch.Size([32]))"
      ]
     },
     "execution_count": 19,
     "metadata": {},
     "output_type": "execute_result"
    }
   ],
   "source": [
    "dataset = NewsDataset()\n",
    "data_loader = DataLoader(batch_size=32, dataset=dataset)\n",
    "# a, b, c = data_loader[3]\n",
    "for a, b, c in data_loader:\n",
    "    pos = _get_sep_pos(c)\n",
    "    print(c[0])\n",
    "    break\n",
    "pos, pos.shape\n"
   ]
  },
  {
   "cell_type": "code",
   "execution_count": 23,
   "metadata": {},
   "outputs": [
    {
     "name": "stderr",
     "output_type": "stream",
     "text": [
      "/tmp/ipykernel_327806/675685718.py:6: UserWarning: Implicit dimension choice for softmax has been deprecated. Change the call to include dim=X as an argument.\n",
      "  softmax(a)\n"
     ]
    },
    {
     "data": {
      "text/plain": [
       "tensor([0.3543, 0.6457])"
      ]
     },
     "execution_count": 23,
     "metadata": {},
     "output_type": "execute_result"
    }
   ],
   "source": [
    "from torch import nn\n",
    "import math\n",
    "criterion = nn.CrossEntropyLoss()\n",
    "a = torch.tensor([0.2, 0.8])\n",
    "softmax = nn.Softmax()\n",
    "softmax(a)\n"
   ]
  },
  {
   "cell_type": "code",
   "execution_count": 26,
   "metadata": {},
   "outputs": [
    {
     "data": {
      "text/plain": [
       "(tensor(1.0375), 1.0376112671107107)"
      ]
     },
     "execution_count": 26,
     "metadata": {},
     "output_type": "execute_result"
    }
   ],
   "source": [
    "b = torch.tensor([1.0, 0.0])\n",
    "loss = criterion(a, b)\n",
    "loss2 = - (((1 * math.log(0.3543)) + (0)) + ((0) + (1*math.log(0.3543))))\n",
    "loss, loss2 / 2"
   ]
  }
 ],
 "metadata": {
  "kernelspec": {
   "display_name": "NLU",
   "language": "python",
   "name": "python3"
  },
  "language_info": {
   "codemirror_mode": {
    "name": "ipython",
    "version": 3
   },
   "file_extension": ".py",
   "mimetype": "text/x-python",
   "name": "python",
   "nbconvert_exporter": "python",
   "pygments_lexer": "ipython3",
   "version": "3.8.16"
  },
  "orig_nbformat": 4
 },
 "nbformat": 4,
 "nbformat_minor": 2
}
