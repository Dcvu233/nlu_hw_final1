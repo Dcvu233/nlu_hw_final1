{
 "cells": [
  {
   "cell_type": "code",
   "execution_count": null,
   "metadata": {},
   "outputs": [],
   "source": [
    "import torch\n",
    "from torch import nn\n",
    "\n",
    "batch_size = 8\n",
    "out = torch.ones((batch_size,4)) * 8\n",
    "softmax = nn.Softmax(dim=-1)\n",
    "out = softmax(out)\n",
    "print(out)\n",
    "# real = torch.zeros_like(out)\n",
    "# for i in range(batch_size):\n",
    "#     real[i][i%4] = 1\n",
    "# crit = nn.CrossEntropyLoss()\n",
    "# crit(out, real)\n",
    "# real = torch.tensor([[0, 0, 0, 1]])\n",
    "# nn.CrossEntropyLoss()"
   ]
  },
  {
   "cell_type": "code",
   "execution_count": null,
   "metadata": {},
   "outputs": [],
   "source": [
    "x, y = 1, 2\n",
    "x, y"
   ]
  },
  {
   "cell_type": "code",
   "execution_count": null,
   "metadata": {},
   "outputs": [],
   "source": [
    "import torch\n",
    "from model.my_model import BertLSTM1\n",
    "from data.dataset import NewsDataset\n",
    "\n",
    "test_dataset = NewsDataset()\n",
    "model = BertLSTM1()\n",
    "y = model(test_dataset[0][0].unsqueeze(0), test_dataset[0][1].unsqueeze(0), test_dataset[0][2].unsqueeze(0))\n",
    "res = torch.max(y, dim=2)"
   ]
  },
  {
   "cell_type": "code",
   "execution_count": null,
   "metadata": {},
   "outputs": [],
   "source": [
    "import torch\n",
    "\n",
    "x = torch.randn(2, 4, 5)\n",
    "y = torch.sum(x, dim=1)\n",
    "x, y"
   ]
  },
  {
   "cell_type": "code",
   "execution_count": null,
   "metadata": {},
   "outputs": [],
   "source": [
    "with torch.no_grad():\n",
    "    print(1)"
   ]
  },
  {
   "cell_type": "code",
   "execution_count": null,
   "metadata": {},
   "outputs": [],
   "source": [
    "from transformers import BertTokenizer\n",
    "tokenizer = BertTokenizer.from_pretrained(\"bert-base-chinese\")\n"
   ]
  },
  {
   "cell_type": "code",
   "execution_count": null,
   "metadata": {},
   "outputs": [],
   "source": [
    "with open('preprocess/preprocessed_data/small_test_keywords.txt', 'r') as f:\n",
    "        lines = f.readlines()\n",
    "        for line in lines:\n",
    "            embedding = tokenizer.encode_plus(line.strip(), padding='max_length', max_length=50, return_tensors='pt')\n",
    "            print(embedding)"
   ]
  },
  {
   "cell_type": "code",
   "execution_count": null,
   "metadata": {},
   "outputs": [],
   "source": [
    "from torch.utils.data import DataLoader\n",
    "from train_mtgpu import Trainer"
   ]
  },
  {
   "cell_type": "code",
   "execution_count": null,
   "metadata": {},
   "outputs": [],
   "source": [
    "def _get_sep_pos(target_ids):\n",
    "        sep_pos = torch.zeros((target_ids.shape[0]))\n",
    "        for i in range(target_ids.shape[0]):\n",
    "            for j in range(target_ids.shape[1]):\n",
    "                if target_ids[i][j] == 102:\n",
    "                    sep_pos[i] = j\n",
    "                    break\n",
    "        return sep_pos"
   ]
  },
  {
   "cell_type": "code",
   "execution_count": null,
   "metadata": {},
   "outputs": [],
   "source": [
    "dataset = NewsDataset()\n",
    "data_loader = DataLoader(batch_size=32, dataset=dataset)\n",
    "# a, b, c = data_loader[3]\n",
    "for a, b, c in data_loader:\n",
    "    # pos = _get_sep_pos(c)\n",
    "    print(c[0])\n",
    "    break\n",
    "pos, pos.shape\n"
   ]
  },
  {
   "cell_type": "code",
   "execution_count": null,
   "metadata": {},
   "outputs": [],
   "source": [
    "from torch import nn\n",
    "import math\n",
    "criterion = nn.CrossEntropyLoss()\n",
    "a = torch.tensor([0.2, 0.8,])\n",
    "softmax = nn.Softmax()\n",
    "softmax(a)\n"
   ]
  },
  {
   "cell_type": "code",
   "execution_count": null,
   "metadata": {},
   "outputs": [],
   "source": [
    "b = torch.tensor([1.0, 0.0])\n",
    "loss = criterion(a, b)\n",
    "loss2 = - (((1 * math.log(0.3543)) + (0)) + ((0) + (1*math.log(0.3543))))\n",
    "loss, loss2 / 2"
   ]
  },
  {
   "cell_type": "code",
   "execution_count": null,
   "metadata": {},
   "outputs": [],
   "source": [
    "a = torch.tensor([0.0, 0.0])\n",
    "b = torch.tensor([0.0, 0.0])\n",
    "criterion(a, b)"
   ]
  },
  {
   "cell_type": "code",
   "execution_count": null,
   "metadata": {},
   "outputs": [],
   "source": [
    "a = torch.zeros((3,4,5))\n",
    "b = a[1][2]\n",
    "b.shape"
   ]
  },
  {
   "cell_type": "code",
   "execution_count": null,
   "metadata": {},
   "outputs": [],
   "source": [
    "import torch\n",
    "\n",
    "# 创建模拟数据\n",
    "a = torch.randn(32, 50, 21128)\n",
    "b = torch.randint(50, (32,))\n",
    "\n",
    "# 用 b 来索引 a 的第二维\n",
    "index = b.unsqueeze(-1).expand(-1, 21128).unsqueeze(1)\n",
    "print(index.shape)\n",
    "result = a.gather(1, index)\n",
    "\n",
    "print(result.shape)  # 输出：torch.Size([32, 1, 21128])\n"
   ]
  },
  {
   "cell_type": "code",
   "execution_count": null,
   "metadata": {},
   "outputs": [],
   "source": [
    "import torch\n",
    "\n",
    "# 假设数据\n",
    "outputs = torch.randn(32, 50, 21128)\n",
    "sep_pos = torch.randint(50, (32,))\n",
    "\n",
    "# 创建一个与outputs相同形状的零tensor\n",
    "zeros = torch.zeros_like(outputs)\n",
    "\n",
    "# 创建一个全1的tensor，形状与outputs的最后一维相同\n",
    "ones = torch.ones(outputs.shape[0], 1, outputs.shape[-1], device=outputs.device)\n",
    "\n",
    "# 创建一个掩码，表示是否应该将对应的位置设置为[1,0,0,...]\n",
    "mask = (torch.arange(outputs.shape[1], device=outputs.device).expand_as(outputs) > sep_pos.view(-1, 1, 1))\n",
    "\n",
    "# 使用mask来设置outputs中的值\n",
    "outputs = torch.where(mask, zeros, outputs)\n",
    "outputs = torch.where(mask[:, :, :1], ones, outputs)\n"
   ]
  },
  {
   "cell_type": "code",
   "execution_count": null,
   "metadata": {},
   "outputs": [],
   "source": [
    "a = torch.randn((3, 4, 5))\n",
    "print(a.shape)\n",
    "b = a.view(-1)\n",
    "print(b.shape)"
   ]
  },
  {
   "cell_type": "code",
   "execution_count": null,
   "metadata": {},
   "outputs": [],
   "source": [
    "torch.arange(10)\n",
    "c = torch.randint(seq_len, (batch_size,))\n",
    "c.view(-1, 1).shape"
   ]
  },
  {
   "cell_type": "code",
   "execution_count": null,
   "metadata": {},
   "outputs": [],
   "source": [
    "seq_len = 50\n",
    "batch_size = 32\n",
    "\n",
    "tmp  = torch.arange(seq_len, device=a.device)\n",
    "print(mask.shape)\n",
    "tmp = mask.expand(batch_size, seq_len)\n",
    "print(mask.shape)\n",
    "print(mask[6])"
   ]
  },
  {
   "cell_type": "code",
   "execution_count": null,
   "metadata": {},
   "outputs": [],
   "source": [
    "import torch\n",
    "import torch.nn as nn\n",
    "\n",
    "# 假设数据\n",
    "batch_size = 32\n",
    "seq_len = 50\n",
    "vocab_size = 21128\n",
    "a = torch.randn(batch_size, seq_len, vocab_size)\n",
    "b = torch.randint(vocab_size, (batch_size, seq_len)) # 请注意这里我们假设b是类别标签，所以它的形状是 [batch_size, seq_len]\n",
    "c = torch.randint(seq_len, (batch_size,))\n",
    "\n",
    "# 创建一个掩码，表示是否应该计算对应的位置的交叉熵\n",
    "mask = torch.arange(seq_len, device=a.device).expand(batch_size, seq_len) < c.view(-1, 1) # 32 1\n",
    "print(f'mask shape is {mask.shape}')\n",
    "# 计算所有位置的交叉熵\n",
    "criterion = nn.CrossEntropyLoss(reduction='none')\n",
    "losses = criterion(a.view(-1, vocab_size), b.view(-1))\n",
    "losses = losses.view(batch_size, seq_len)\n",
    "print(f'losses shape is {losses.shape}')\n",
    "# 应用掩码\n",
    "masked_losses = losses * mask.float() # mask 32 50\n",
    "\n",
    "# 计算平均损失\n",
    "loss = masked_losses.sum() / mask.float().sum()\n",
    "\n",
    "print(loss)\n"
   ]
  },
  {
   "cell_type": "code",
   "execution_count": 66,
   "metadata": {},
   "outputs": [
    {
     "name": "stdout",
     "output_type": "stream",
     "text": [
      "torch.Size([32])\n",
      "tensor(10.4201)\n"
     ]
    }
   ],
   "source": [
    "import torch\n",
    "import torch.nn as nn\n",
    "\n",
    "# 假设数据\n",
    "batch_size = 32\n",
    "seq_len = 50\n",
    "vocab_size = 21128\n",
    "a = torch.randn(batch_size, seq_len, vocab_size) \n",
    "b = torch.randint(vocab_size, (batch_size, seq_len)) #  [batch_size, seq_len]\n",
    "c = torch.randint(seq_len, (batch_size,))\n",
    "\n",
    "# 创建一个掩码，表示是否应该计算对应的位置的交叉熵\n",
    "mask = torch.arange(seq_len, device=a.device).expand(batch_size, seq_len) < c.view(-1, 1)\n",
    "\n",
    "# 计算所有位置的交叉熵\n",
    "criterion = nn.CrossEntropyLoss(reduction='none')\n",
    "losses = criterion(a.view(-1, vocab_size), b.view(-1))\n",
    "losses = losses.view(batch_size, seq_len)\n",
    "# print(losses.shape)\n",
    "# 应用掩码\n",
    "masked_losses = losses * mask.float()\n",
    "# print(mask.shape)\n",
    "# print(mask.float()[0])\n",
    "# print(masked_losses[0])\n",
    "# 计算每个样本的平均损失\n",
    "mean_losses = masked_losses.sum(dim=1) / mask.float().sum(dim=1)\n",
    "print(mean_losses.shape)\n",
    "# 计算所有样本的平均损失\n",
    "loss = mean_losses.mean()\n",
    "\n",
    "print(loss)\n"
   ]
  },
  {
   "cell_type": "code",
   "execution_count": null,
   "metadata": {},
   "outputs": [],
   "source": []
  }
 ],
 "metadata": {
  "kernelspec": {
   "display_name": "NLU",
   "language": "python",
   "name": "python3"
  },
  "language_info": {
   "codemirror_mode": {
    "name": "ipython",
    "version": 3
   },
   "file_extension": ".py",
   "mimetype": "text/x-python",
   "name": "python",
   "nbconvert_exporter": "python",
   "pygments_lexer": "ipython3",
   "version": "3.8.16"
  },
  "orig_nbformat": 4
 },
 "nbformat": 4,
 "nbformat_minor": 2
}
