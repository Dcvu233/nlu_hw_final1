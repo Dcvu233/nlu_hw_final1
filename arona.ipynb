{
 "cells": [
  {
   "cell_type": "code",
   "execution_count": null,
   "metadata": {},
   "outputs": [],
   "source": [
    "import torch\n",
    "from torch import nn\n",
    "\n",
    "batch_size = 8\n",
    "out = torch.ones((batch_size,4)) * 8\n",
    "softmax = nn.Softmax(dim=-1)\n",
    "out = softmax(out)\n",
    "print(out)\n",
    "# real = torch.zeros_like(out)\n",
    "# for i in range(batch_size):\n",
    "#     real[i][i%4] = 1\n",
    "# crit = nn.CrossEntropyLoss()\n",
    "# crit(out, real)\n",
    "# real = torch.tensor([[0, 0, 0, 1]])\n",
    "# nn.CrossEntropyLoss()"
   ]
  },
  {
   "cell_type": "code",
   "execution_count": null,
   "metadata": {},
   "outputs": [],
   "source": [
    "x, y = 1, 2\n",
    "x, y"
   ]
  },
  {
   "cell_type": "code",
   "execution_count": null,
   "metadata": {},
   "outputs": [],
   "source": [
    "import torch\n",
    "from model.my_model import BertLSTM1\n",
    "from data.dataset import NewsDataset\n",
    "\n",
    "test_dataset = NewsDataset()\n",
    "model = BertLSTM1()\n",
    "y = model(test_dataset[0][0].unsqueeze(0), test_dataset[0][1].unsqueeze(0), test_dataset[0][2].unsqueeze(0))\n",
    "res = torch.max(y, dim=2)"
   ]
  },
  {
   "cell_type": "code",
   "execution_count": 5,
   "metadata": {},
   "outputs": [
    {
     "data": {
      "text/plain": [
       "(tensor([[[ 3.5868e-01,  5.2038e-01,  2.1078e-01,  1.7959e-01, -2.7360e-01],\n",
       "          [ 9.8862e-01, -1.0675e+00, -4.8833e-01, -2.1125e-01, -1.1973e+00],\n",
       "          [ 6.4489e-01,  1.0027e+00, -1.0441e+00,  5.2191e-01,  1.2573e+00],\n",
       "          [-6.8574e-01, -5.2125e-01,  1.3606e+00,  9.5198e-01, -8.4002e-01]],\n",
       " \n",
       "         [[ 9.7367e-01,  1.8001e+00,  9.0571e-01,  4.1997e-01,  1.0319e-04],\n",
       "          [ 2.5544e-01,  1.5959e+00,  1.1719e+00,  7.6775e-02, -1.4426e+00],\n",
       "          [ 4.5424e-01,  6.5995e-01, -1.9763e-01,  2.0145e-02, -3.6284e-01],\n",
       "          [-1.6638e+00, -1.5792e-01,  1.3968e+00, -6.8963e-01, -4.8508e-01]]]),\n",
       " tensor([[ 1.3065, -0.0656,  0.0389,  1.4422, -1.0536],\n",
       "         [ 0.0195,  3.8980,  3.2768, -0.1727, -2.2904]]))"
      ]
     },
     "execution_count": 5,
     "metadata": {},
     "output_type": "execute_result"
    }
   ],
   "source": [
    "import torch\n",
    "\n",
    "x = torch.randn(2, 4, 5)\n",
    "y = torch.sum(x, dim=1)\n",
    "x, y"
   ]
  },
  {
   "cell_type": "code",
   "execution_count": 7,
   "metadata": {},
   "outputs": [
    {
     "name": "stdout",
     "output_type": "stream",
     "text": [
      "1\n"
     ]
    }
   ],
   "source": [
    "with torch.no_grad():\n",
    "    print(1)"
   ]
  },
  {
   "cell_type": "code",
   "execution_count": null,
   "metadata": {},
   "outputs": [],
   "source": []
  }
 ],
 "metadata": {
  "kernelspec": {
   "display_name": "NLU",
   "language": "python",
   "name": "python3"
  },
  "language_info": {
   "codemirror_mode": {
    "name": "ipython",
    "version": 3
   },
   "file_extension": ".py",
   "mimetype": "text/x-python",
   "name": "python",
   "nbconvert_exporter": "python",
   "pygments_lexer": "ipython3",
   "version": "3.8.16"
  },
  "orig_nbformat": 4
 },
 "nbformat": 4,
 "nbformat_minor": 2
}
